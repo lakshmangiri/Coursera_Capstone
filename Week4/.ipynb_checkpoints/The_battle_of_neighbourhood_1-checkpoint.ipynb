{
 "cells": [
  {
   "cell_type": "markdown",
   "metadata": {},
   "source": [
    "# The Battle of Neighbourhood"
   ]
  },
  {
   "cell_type": "markdown",
   "metadata": {},
   "source": [
    "## Introduction / Business Problem\n",
    "**Bangalore** also known as **Bengaluru** is the capital of the Indian State of Karnataka. It has a population of about 10 million and a metropolitan population of about 8.52 million, making it the third most populous city and fifth most populous urban agglomeration in India. Located in southern India on the Deccan Plateau, at a height of over 900 m (3,000 ft) above sea level, Bangalore is known for its pleasant climate throughout the year. Its elevation is the highest among the major cities of India. Bangalore was the fastest-growing Indian metropolis after New Delhi between 1991 and 2001, with a growth rate of 38% during the decade. Residents of Bangalore are referred to as \"Bangaloreans\" in English and Bengaloorinavaru or Bengaloorigaru in Kannada. People from other states have migrated to Bangalore.  \n",
    "\n",
    "Recent estimates of the economy of Bangalore's metropolitan area have ranged from $45 to $83 billion (PPP GDP), and have ranked it either fourth- or fifth-most productive metro area of India. In 2014, Bangalore contributed US$45 billion, or 38 per cent of India's total IT exports. As of 2017, IT firms in Bengaluru employ about 1.5 million employees in the IT and IT-enabled services sectors, out of nearly 4.36 million employees across India.  \n",
    "\n",
    "With an economic growth of 10.3%, Bangalore is the second fastest-growing major metropolis in India, and is also the country's fourth largest fast-moving consumer goods (FMCG) market. Forbes considers Bangalore one of \"The Next Decade's Fastest-Growing Cities\". The city is the third largest hub for high-net-worth individuals and is home to over 10,000-dollar millionaires and about 60,000 super-rich people who have an investment surplus of ₹45 million and ₹5 million respectively."
   ]
  },
  {
   "cell_type": "markdown",
   "metadata": {},
   "source": [
    "## Problem to be solved\n",
    "The main purpose of this project, is to suggest a better neighbourhood in the city of Bangalore for the organisations to start a new business in the new city.\n",
    "\n",
    "* To know which place of neighbourhood in the city of Bangalore is suitable for opening a new restaurant.\n",
    "* To know which place of neighbourhood in the city of bangalore is suitable for living for the people who are migrating to this new city. "
   ]
  },
  {
   "cell_type": "markdown",
   "metadata": {},
   "source": [
    "## Foursquare API\n",
    "With the help of Foursquare API, we can obtain the location database of the city's neighbourhood, especially the places API which provides  the location search, sharing and details about venues. With the help of the credentials the details of the places can be obtained, since due to the http limitaions, the limit and radius parameter would be set to 100 and 500 per neighbourhood respectively to obtain the places and it details."
   ]
  }
 ],
 "metadata": {
  "kernelspec": {
   "display_name": "Python 3",
   "language": "python",
   "name": "python3"
  },
  "language_info": {
   "codemirror_mode": {
    "name": "ipython",
    "version": 3
   },
   "file_extension": ".py",
   "mimetype": "text/x-python",
   "name": "python",
   "nbconvert_exporter": "python",
   "pygments_lexer": "ipython3",
   "version": "3.8.2"
  }
 },
 "nbformat": 4,
 "nbformat_minor": 4
}
