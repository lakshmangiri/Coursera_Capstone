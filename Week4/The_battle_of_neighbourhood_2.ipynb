{
 "cells": [
  {
   "cell_type": "markdown",
   "metadata": {},
   "source": [
    "# Data description"
   ]
  },
  {
   "cell_type": "markdown",
   "metadata": {},
   "source": [
    "I managed to organize two datasets from various online sources. I combined the two datasets which I obtained and made into a single dataset. The data will be read into dataframe, then will be cleaned and preprocessed. The cleaned data will be used to study about the 'Borough' and 'Neighbourhood' of the mentioned city.  \n",
    "\n",
    "#### Dataset links:\n",
    "\n",
    "* The data will be scrapped from the following url: <a>https://www.mapsofindia.com/pincode/india/karnataka/bangalore/</a>\n",
    "* The latitude and longitude will be obtained from the following url: <a>https://www.kaggle.com/rmenon1998/bangalore-neighborhoods</a>"
   ]
  }
 ],
 "metadata": {
  "kernelspec": {
   "display_name": "Python 3",
   "language": "python",
   "name": "python3"
  },
  "language_info": {
   "codemirror_mode": {
    "name": "ipython",
    "version": 3
   },
   "file_extension": ".py",
   "mimetype": "text/x-python",
   "name": "python",
   "nbconvert_exporter": "python",
   "pygments_lexer": "ipython3",
   "version": "3.8.2"
  }
 },
 "nbformat": 4,
 "nbformat_minor": 4
}
