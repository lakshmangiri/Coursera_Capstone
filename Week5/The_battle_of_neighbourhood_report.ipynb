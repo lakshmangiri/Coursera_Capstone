{
  "nbformat": 4,
  "nbformat_minor": 0,
  "metadata": {
    "kernelspec": {
      "display_name": "Python 3",
      "language": "python",
      "name": "python3"
    },
    "language_info": {
      "codemirror_mode": {
        "name": "ipython",
        "version": 3
      },
      "file_extension": ".py",
      "mimetype": "text/x-python",
      "name": "python",
      "nbconvert_exporter": "python",
      "pygments_lexer": "ipython3",
      "version": "3.8.2"
    },
    "colab": {
      "name": "The_battle_of_neighbourhood_report.ipynb",
      "provenance": [],
      "collapsed_sections": []
    }
  },
  "cells": [
    {
      "cell_type": "markdown",
      "metadata": {
        "id": "rkRtaU9pxOmj",
        "colab_type": "text"
      },
      "source": [
        "# The Battle of Neighbourhood"
      ]
    },
    {
      "cell_type": "markdown",
      "metadata": {
        "id": "h1tYLCbpxOmm",
        "colab_type": "text"
      },
      "source": [
        "## Introduction / Business Problem\n",
        "**Bangalore** also known as **Bengaluru** is the capital of the Indian State of Karnataka. It has a population of about 10 million and a metropolitan population of about 8.52 million, making it the third most populous city and fifth most populous urban agglomeration in India. Located in southern India on the Deccan Plateau, at a height of over 900 m (3,000 ft) above sea level, Bangalore is known for its pleasant climate throughout the year. Its elevation is the highest among the major cities of India. Bangalore was the fastest-growing Indian metropolis after New Delhi between 1991 and 2001, with a growth rate of 38% during the decade. Residents of Bangalore are referred to as \"Bangaloreans\" in English and Bengaloorinavaru or Bengaloorigaru in Kannada. People from other states have migrated to Bangalore.  \n",
        "\n",
        "Recent estimates of the economy of Bangalore's metropolitan area have ranged from $45 to $83 billion (PPP GDP), and have ranked it either fourth- or fifth-most productive metro area of India. In 2014, Bangalore contributed US$45 billion, or 38 per cent of India's total IT exports. As of 2017, IT firms in Bengaluru employ about 1.5 million employees in the IT and IT-enabled services sectors, out of nearly 4.36 million employees across India.  \n",
        "\n",
        "With an economic growth of 10.3%, Bangalore is the second fastest-growing major metropolis in India, and is also the country's fourth largest fast-moving consumer goods (FMCG) market. Forbes considers Bangalore one of \"The Next Decade's Fastest-Growing Cities\". The city is the third largest hub for high-net-worth individuals and is home to over 10,000-dollar millionaires and about 60,000 super-rich people who have an investment surplus of ₹45 million and ₹5 million respectively."
      ]
    },
    {
      "cell_type": "markdown",
      "metadata": {
        "id": "1GG1GgO0xOmn",
        "colab_type": "text"
      },
      "source": [
        "The City of Bangalore has various Borughs and Neighbourhoods in each borough. The purpose of the project to Cluster and Segment the Neighbourhood of any Borough and to display the map with the help of Foursquare API."
      ]
    },
    {
      "cell_type": "markdown",
      "metadata": {
        "id": "uVm4yMiQxOmp",
        "colab_type": "text"
      },
      "source": [
        "## Foursquare API\n",
        "With the help of Foursquare API, we can obtain the location database of the city's neighbourhood, especially the places API which provides  the location search, sharing and details about venues. With the help of the credentials the details of the places can be obtained, since due to the http limitaions, the limit and radius parameter would be set to 100 and 500 per neighbourhood respectively to obtain the places and it details."
      ]
    },
    {
      "cell_type": "markdown",
      "metadata": {
        "id": "sWaRpkQNxOmq",
        "colab_type": "text"
      },
      "source": [
        "# Data description"
      ]
    },
    {
      "cell_type": "markdown",
      "metadata": {
        "id": "6CumzdKjxOmr",
        "colab_type": "text"
      },
      "source": [
        "I managed to organize two datasets from various online sources. I combined the two datasets which I obtained and made into a single dataset. The data will be read into dataframe, then will be cleaned and preprocessed. The cleaned data will be used to study about the 'Borough' and 'Neighbourhood' of the mentioned city.  \n",
        "\n",
        "#### Dataset links:\n",
        "\n",
        "* The data will be scrapped from the following url: <a>https://en.wikipedia.org/wiki/List_of_neighbourhoods_in_Bangalore</a>\n",
        "* The Latitude and Longitude of the Neighbourhoods is obtained with the help of **Geocoder** library.\n"
      ]
    },
    {
      "cell_type": "markdown",
      "metadata": {
        "id": "8euvDi1SxOms",
        "colab_type": "text"
      },
      "source": [
        "# Methodology"
      ]
    },
    {
      "cell_type": "markdown",
      "metadata": {
        "id": "Ggg4p50ixOmu",
        "colab_type": "text"
      },
      "source": [
        "* With the help of the extracted data from the url, we store and retrieve the data as Dataframe.\n",
        "* Then, after obtaining the data, with the help of geocoder, the latitude and longitude of the neighbourhood is obtained and stroed with all other data.\n",
        "* The basic skills obtained from the Week 3 lab, with the help of lab, I managed to obtain the nearby venues with the help of Foursquare API.\n",
        "* Majorly relied on Foursquare API to retrieve all venues of each neighborhoods, then group by each neighborhoods and to count how many venues before filter top 10 most common venue types of each neighborhoods.\n",
        "* Finally, we will visualizethe Neighborhoodand Borough of South East division of city with the help of Folium python library."
      ]
    },
    {
      "cell_type": "markdown",
      "metadata": {
        "id": "9UZzMxm3xOmv",
        "colab_type": "text"
      },
      "source": [
        "# Result"
      ]
    },
    {
      "cell_type": "markdown",
      "metadata": {
        "id": "rjhIX0SdxOmx",
        "colab_type": "text"
      },
      "source": [
        "* Thus, with the Map of Bangalore, I took the Neighbourhood that are under the South East of the Bangalore.\n",
        "* I segmented and clustered the Neighbourhood in the South East of the Bangalore.\n",
        "* From the clustering, there are more similar locations in each neighbourhood."
      ]
    },
    {
      "cell_type": "markdown",
      "metadata": {
        "id": "EgeVrptvxOmz",
        "colab_type": "text"
      },
      "source": [
        "# Conclusion\n",
        "In this study, I segmented and Clustered the Neighbourhoods of the Bangalore city. I built the clustering model to analyse through the neighbourhoods of the city.\n",
        "\n",
        "### Future Directions\n",
        " I was able to cluster and segment the Bangalore city. Further this can be used to segment other cities and also can be used to study about the city. The study of cities can help in recommending the migrators to choose the suitable place for living in the specified city.\n",
        "\n",
        "   "
      ]
    }
  ]
}